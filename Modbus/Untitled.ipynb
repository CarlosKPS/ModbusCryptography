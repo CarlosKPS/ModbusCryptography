{
 "cells": [
  {
   "cell_type": "code",
   "execution_count": 1,
   "id": "dd2ec1a8",
   "metadata": {},
   "outputs": [],
   "source": [
    "from pyModbusTCP.client import ModbusClient\n",
    "from time import sleep"
   ]
  },
  {
   "cell_type": "code",
   "execution_count": 18,
   "id": "01aa1ee4",
   "metadata": {},
   "outputs": [],
   "source": [
    "class ClienteMODBUSTCP():\n",
    "    \n",
    "    def __init__(self, server_ip, porta,scan_time=1):\n",
    "        \n",
    "        self._cliente = ModbusClient(host=server_ip, port=porta)\n",
    "        self._scan_time = scan_time\n",
    "        self._cliente.open()\n",
    "        \n",
    "    def get_coils(self):        \n",
    "        coil_val = self._cliente.read_coils(0,64)\n",
    "        print('leitura dos sensores',coil_val)\n"
   ]
  },
  {
   "cell_type": "code",
   "execution_count": 19,
   "id": "e1648b19",
   "metadata": {},
   "outputs": [],
   "source": [
    "c = ClienteMODBUSTCP(server_ip='localhost', porta=502)"
   ]
  },
  {
   "cell_type": "code",
   "execution_count": 20,
   "id": "9714dbde",
   "metadata": {},
   "outputs": [
    {
     "name": "stdout",
     "output_type": "stream",
     "text": [
      "leitura dos sensores [False, False, False, False, False, False, False, False, False, False, False, False, False, False, False, False, False, False, False, False, False, False, False, False, False, False, False, False, False, False, False, False, False, False, False, False, False, False, False, False, False, False, False, False, False, False, False, False, False, False, False, False, False, False, False, False, False, False, False, False, False, False, False, False]\n"
     ]
    }
   ],
   "source": [
    "c.get_coils()"
   ]
  },
  {
   "cell_type": "code",
   "execution_count": null,
   "id": "6bada420",
   "metadata": {},
   "outputs": [],
   "source": []
  }
 ],
 "metadata": {
  "kernelspec": {
   "display_name": "Python 3 (ipykernel)",
   "language": "python",
   "name": "python3"
  },
  "language_info": {
   "codemirror_mode": {
    "name": "ipython",
    "version": 3
   },
   "file_extension": ".py",
   "mimetype": "text/x-python",
   "name": "python",
   "nbconvert_exporter": "python",
   "pygments_lexer": "ipython3",
   "version": "3.9.7"
  }
 },
 "nbformat": 4,
 "nbformat_minor": 5
}
