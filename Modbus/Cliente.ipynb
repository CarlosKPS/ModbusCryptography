{
 "cells": [
  {
   "cell_type": "code",
   "execution_count": 3,
   "id": "38922caa",
   "metadata": {
    "scrolled": true
   },
   "outputs": [],
   "source": [
    "from pyModbusTCP.client import ModbusClient\n",
    "from time import sleep"
   ]
  },
  {
   "cell_type": "code",
   "execution_count": 5,
   "id": "72ae7b5f",
   "metadata": {},
   "outputs": [],
   "source": [
    "class ClienteMODBUS():\n",
    "    \n",
    "    def __init__(self, server_ip, porta,scan_time=1):\n",
    "        \n",
    "        self._cliente = ModbusClient(host=server_ip, port=porta)\n",
    "        self._scan_time = scan_time\n",
    "        \n",
    "    \n",
    "    def atendimento(self):\n",
    "        \"\"\"\n",
    "        Método para atendimento do usuario\n",
    "        \"\"\"\n",
    "        self._cliente.open()\n",
    "        \n",
    "        try:\n",
    "            atendimento = True\n",
    "            while atendimento:\n",
    "                coil_val = self._cliente.read_coils(1001,1)[0]\n",
    "                print(\"coil value: \", coil_val)\n",
    "                sleep(self._scan_time)\n",
    "        except Exception as e:\n",
    "            print(\"Erro: \", e.args)"
   ]
  },
  {
   "cell_type": "code",
   "execution_count": 6,
   "id": "fa73a156",
   "metadata": {
    "scrolled": true
   },
   "outputs": [
    {
     "name": "stdout",
     "output_type": "stream",
     "text": [
      "coil value:  True\n",
      "coil value:  False\n",
      "coil value:  False\n",
      "coil value:  True\n",
      "coil value:  False\n",
      "coil value:  True\n",
      "coil value:  True\n",
      "coil value:  True\n",
      "coil value:  True\n",
      "coil value:  True\n",
      "coil value:  False\n",
      "coil value:  False\n",
      "coil value:  True\n",
      "coil value:  False\n",
      "coil value:  True\n",
      "coil value:  False\n",
      "coil value:  True\n",
      "coil value:  True\n",
      "coil value:  False\n",
      "coil value:  True\n",
      "coil value:  False\n",
      "coil value:  True\n",
      "coil value:  True\n",
      "coil value:  True\n",
      "coil value:  False\n",
      "coil value:  False\n",
      "coil value:  False\n",
      "coil value:  False\n",
      "coil value:  False\n",
      "coil value:  False\n",
      "coil value:  False\n",
      "coil value:  True\n",
      "coil value:  False\n",
      "coil value:  False\n",
      "coil value:  False\n",
      "coil value:  True\n",
      "coil value:  False\n",
      "coil value:  True\n",
      "coil value:  True\n",
      "coil value:  True\n",
      "coil value:  False\n",
      "coil value:  True\n",
      "coil value:  False\n",
      "coil value:  True\n",
      "coil value:  True\n",
      "coil value:  False\n",
      "coil value:  False\n",
      "coil value:  False\n",
      "coil value:  True\n",
      "coil value:  False\n",
      "coil value:  True\n",
      "coil value:  False\n",
      "coil value:  True\n",
      "coil value:  True\n",
      "coil value:  False\n",
      "coil value:  False\n",
      "coil value:  False\n",
      "coil value:  True\n",
      "coil value:  False\n",
      "coil value:  True\n",
      "coil value:  True\n",
      "coil value:  True\n",
      "coil value:  False\n",
      "coil value:  True\n",
      "coil value:  False\n"
     ]
    },
    {
     "ename": "KeyboardInterrupt",
     "evalue": "",
     "output_type": "error",
     "traceback": [
      "\u001b[1;31m---------------------------------------------------------------------------\u001b[0m",
      "\u001b[1;31mKeyboardInterrupt\u001b[0m                         Traceback (most recent call last)",
      "\u001b[1;32m~\\AppData\\Local\\Temp/ipykernel_9320/1238027777.py\u001b[0m in \u001b[0;36m<module>\u001b[1;34m\u001b[0m\n\u001b[0;32m      1\u001b[0m \u001b[0mc\u001b[0m \u001b[1;33m=\u001b[0m \u001b[0mClienteMODBUS\u001b[0m\u001b[1;33m(\u001b[0m\u001b[1;34m'localhost'\u001b[0m\u001b[1;33m,\u001b[0m \u001b[1;36m502\u001b[0m\u001b[1;33m)\u001b[0m\u001b[1;33m\u001b[0m\u001b[1;33m\u001b[0m\u001b[0m\n\u001b[1;32m----> 2\u001b[1;33m \u001b[0mc\u001b[0m\u001b[1;33m.\u001b[0m\u001b[0matendimento\u001b[0m\u001b[1;33m(\u001b[0m\u001b[1;33m)\u001b[0m\u001b[1;33m\u001b[0m\u001b[1;33m\u001b[0m\u001b[0m\n\u001b[0m",
      "\u001b[1;32m~\\AppData\\Local\\Temp/ipykernel_9320/2501634612.py\u001b[0m in \u001b[0;36matendimento\u001b[1;34m(self)\u001b[0m\n\u001b[0;32m     18\u001b[0m                 \u001b[0mcoil_val\u001b[0m \u001b[1;33m=\u001b[0m \u001b[0mself\u001b[0m\u001b[1;33m.\u001b[0m\u001b[0m_cliente\u001b[0m\u001b[1;33m.\u001b[0m\u001b[0mread_coils\u001b[0m\u001b[1;33m(\u001b[0m\u001b[1;36m1001\u001b[0m\u001b[1;33m,\u001b[0m\u001b[1;36m1\u001b[0m\u001b[1;33m)\u001b[0m\u001b[1;33m[\u001b[0m\u001b[1;36m0\u001b[0m\u001b[1;33m]\u001b[0m\u001b[1;33m\u001b[0m\u001b[1;33m\u001b[0m\u001b[0m\n\u001b[0;32m     19\u001b[0m                 \u001b[0mprint\u001b[0m\u001b[1;33m(\u001b[0m\u001b[1;34m\"coil value: \"\u001b[0m\u001b[1;33m,\u001b[0m \u001b[0mcoil_val\u001b[0m\u001b[1;33m)\u001b[0m\u001b[1;33m\u001b[0m\u001b[1;33m\u001b[0m\u001b[0m\n\u001b[1;32m---> 20\u001b[1;33m                 \u001b[0msleep\u001b[0m\u001b[1;33m(\u001b[0m\u001b[0mself\u001b[0m\u001b[1;33m.\u001b[0m\u001b[0m_scan_time\u001b[0m\u001b[1;33m)\u001b[0m\u001b[1;33m\u001b[0m\u001b[1;33m\u001b[0m\u001b[0m\n\u001b[0m\u001b[0;32m     21\u001b[0m         \u001b[1;32mexcept\u001b[0m \u001b[0mException\u001b[0m \u001b[1;32mas\u001b[0m \u001b[0me\u001b[0m\u001b[1;33m:\u001b[0m\u001b[1;33m\u001b[0m\u001b[1;33m\u001b[0m\u001b[0m\n\u001b[0;32m     22\u001b[0m             \u001b[0mprint\u001b[0m\u001b[1;33m(\u001b[0m\u001b[1;34m\"Erro: \"\u001b[0m\u001b[1;33m,\u001b[0m \u001b[0me\u001b[0m\u001b[1;33m.\u001b[0m\u001b[0margs\u001b[0m\u001b[1;33m)\u001b[0m\u001b[1;33m\u001b[0m\u001b[1;33m\u001b[0m\u001b[0m\n",
      "\u001b[1;31mKeyboardInterrupt\u001b[0m: "
     ]
    }
   ],
   "source": [
    "c = ClienteMODBUS('localhost', 502)\n",
    "c.atendimento()"
   ]
  },
  {
   "cell_type": "code",
   "execution_count": null,
   "id": "c3548454",
   "metadata": {},
   "outputs": [],
   "source": []
  }
 ],
 "metadata": {
  "kernelspec": {
   "display_name": "Python 3 (ipykernel)",
   "language": "python",
   "name": "python3"
  },
  "language_info": {
   "codemirror_mode": {
    "name": "ipython",
    "version": 3
   },
   "file_extension": ".py",
   "mimetype": "text/x-python",
   "name": "python",
   "nbconvert_exporter": "python",
   "pygments_lexer": "ipython3",
   "version": "3.9.7"
  }
 },
 "nbformat": 4,
 "nbformat_minor": 5
}
