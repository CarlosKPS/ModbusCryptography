{
 "cells": [
  {
   "cell_type": "code",
   "execution_count": 33,
   "id": "b4cb87f9",
   "metadata": {},
   "outputs": [],
   "source": [
    "l0 = [0, 1, 0, 1]\n",
    "l1 = [0, 1, 0, 1]\n",
    "l2 = [True, True,False, True]\n",
    "k1 = [1, 1, 1, 1]"
   ]
  },
  {
   "cell_type": "code",
   "execution_count": 34,
   "id": "27c32edc",
   "metadata": {},
   "outputs": [],
   "source": [
    "%timeit\n",
    "e1 = []\n",
    "for i in range(0, len(l2)):\n",
    "    e1.append(l1[i]^l2[i])"
   ]
  },
  {
   "cell_type": "code",
   "execution_count": 41,
   "id": "5577f13c",
   "metadata": {},
   "outputs": [],
   "source": [
    "ec1 = []\n",
    "for i in range(0,len(k1)):\n",
    "    ec1.append(e1[i]^k1[i])"
   ]
  },
  {
   "cell_type": "code",
   "execution_count": 44,
   "id": "e81b4802",
   "metadata": {},
   "outputs": [],
   "source": [
    "mcf=[]\n",
    "for i in range(0, len(l0)):\n",
    "    mcf.append(l0[i]^ec1[i])"
   ]
  },
  {
   "cell_type": "code",
   "execution_count": 47,
   "id": "a61bb537",
   "metadata": {},
   "outputs": [
    {
     "data": {
      "text/plain": [
       "([0, 0, 1, 0],\n",
       " [0, 1, 1, 1],\n",
       " [1, 0, 0, 0],\n",
       " [1, 1, 1, 1],\n",
       " [0, 1, 0, 1],\n",
       " [0, 1, 0, 1])"
      ]
     },
     "execution_count": 47,
     "metadata": {},
     "output_type": "execute_result"
    }
   ],
   "source": [
    "mcf, ec1, e1, k1, l1, l0"
   ]
  },
  {
   "cell_type": "code",
   "execution_count": 53,
   "id": "4a637327",
   "metadata": {},
   "outputs": [
    {
     "data": {
      "text/plain": [
       "[0, 1, 1, 1]"
      ]
     },
     "execution_count": 53,
     "metadata": {},
     "output_type": "execute_result"
    }
   ],
   "source": [
    "ed = [j^i for i,j in zip(mcf,l0)]\n",
    "ed"
   ]
  },
  {
   "cell_type": "code",
   "execution_count": 51,
   "id": "5f4bdbb4",
   "metadata": {},
   "outputs": [
    {
     "data": {
      "text/plain": [
       "[1, 0, 0, 0]"
      ]
     },
     "execution_count": 51,
     "metadata": {},
     "output_type": "execute_result"
    }
   ],
   "source": [
    "edc1 = [i^j for i,j in zip(ed,k1)]\n",
    "edc1"
   ]
  },
  {
   "cell_type": "code",
   "execution_count": 56,
   "id": "9574677a",
   "metadata": {},
   "outputs": [
    {
     "data": {
      "text/plain": [
       "[1, 1, 0, 1]"
      ]
     },
     "execution_count": 56,
     "metadata": {},
     "output_type": "execute_result"
    }
   ],
   "source": [
    "l2d = [i^j for i,j in zip(edc1, l0)]\n",
    "l2d"
   ]
  },
  {
   "cell_type": "code",
   "execution_count": 65,
   "id": "d80abf07",
   "metadata": {},
   "outputs": [
    {
     "data": {
      "text/plain": [
       "[0,\n",
       " 0,\n",
       " 0,\n",
       " 0,\n",
       " 0,\n",
       " 0,\n",
       " 0,\n",
       " 0,\n",
       " 0,\n",
       " 0,\n",
       " 0,\n",
       " 0,\n",
       " 0,\n",
       " 0,\n",
       " 0,\n",
       " 0,\n",
       " 0,\n",
       " 0,\n",
       " 0,\n",
       " 0,\n",
       " 0,\n",
       " 0,\n",
       " 0,\n",
       " 0,\n",
       " 0,\n",
       " 0,\n",
       " 0,\n",
       " 0,\n",
       " 0,\n",
       " 0,\n",
       " 0,\n",
       " 0,\n",
       " 0,\n",
       " 0,\n",
       " 0,\n",
       " 0,\n",
       " 0,\n",
       " 0,\n",
       " 0,\n",
       " 0,\n",
       " 0,\n",
       " 0,\n",
       " 0,\n",
       " 0,\n",
       " 0,\n",
       " 0,\n",
       " 0,\n",
       " 0,\n",
       " 0,\n",
       " 0,\n",
       " 0,\n",
       " 0,\n",
       " 0,\n",
       " 0,\n",
       " 0,\n",
       " 0,\n",
       " 0,\n",
       " 0,\n",
       " 0,\n",
       " 0,\n",
       " 0,\n",
       " 0,\n",
       " 0,\n",
       " 0]"
      ]
     },
     "execution_count": 65,
     "metadata": {},
     "output_type": "execute_result"
    }
   ],
   "source": [
    "([64*[0]][-1])"
   ]
  },
  {
   "cell_type": "code",
   "execution_count": 87,
   "id": "9157d2df",
   "metadata": {},
   "outputs": [],
   "source": [
    "import random\n",
    "def random_vector(n_bits):\n",
    "    vector = []\n",
    "    for i in range(0, n_bits):\n",
    "        vector.append(int(random.randrange(0, 2)))\n",
    "    return vector"
   ]
  },
  {
   "cell_type": "code",
   "execution_count": 90,
   "id": "5829a9d3",
   "metadata": {},
   "outputs": [],
   "source": [
    "vec_list = []\n",
    "for i in range(0,16):\n",
    "    vec_list.append(random_vector(64))"
   ]
  },
  {
   "cell_type": "code",
   "execution_count": 93,
   "id": "cadd3b23",
   "metadata": {
    "scrolled": false
   },
   "outputs": [
    {
     "data": {
      "text/plain": [
       "64"
      ]
     },
     "execution_count": 93,
     "metadata": {},
     "output_type": "execute_result"
    }
   ],
   "source": []
  },
  {
   "cell_type": "code",
   "execution_count": null,
   "id": "e2b4b07b",
   "metadata": {},
   "outputs": [],
   "source": []
  }
 ],
 "metadata": {
  "kernelspec": {
   "display_name": "Python 3 (ipykernel)",
   "language": "python",
   "name": "python3"
  },
  "language_info": {
   "codemirror_mode": {
    "name": "ipython",
    "version": 3
   },
   "file_extension": ".py",
   "mimetype": "text/x-python",
   "name": "python",
   "nbconvert_exporter": "python",
   "pygments_lexer": "ipython3",
   "version": "3.9.7"
  }
 },
 "nbformat": 4,
 "nbformat_minor": 5
}
